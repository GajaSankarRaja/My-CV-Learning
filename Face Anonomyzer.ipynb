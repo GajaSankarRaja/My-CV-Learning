{
 "cells": [
  {
   "cell_type": "code",
   "execution_count": 1,
   "id": "3e00a4cb-bf86-4c83-a928-f5a118b84a7e",
   "metadata": {},
   "outputs": [],
   "source": [
    "import mediapipe as mp\n",
    "import cv2 as cv"
   ]
  },
  {
   "cell_type": "code",
   "execution_count": 2,
   "id": "e02ab73d-8a23-4284-8ad1-d2d7fe3817f9",
   "metadata": {},
   "outputs": [],
   "source": [
    "vijay=cv.imread('vijay.jpeg')\n",
    "cv.imshow('image',vijay)\n",
    "cv.waitKey(0)\n",
    "cv.destroyAllWindows()"
   ]
  },
  {
   "cell_type": "code",
   "execution_count": 3,
   "id": "e24a3f5c-e144-4c12-aff9-a1bf1a00dcd3",
   "metadata": {},
   "outputs": [],
   "source": [
    "h,w,_=vijay.shape\n",
    "mp_face_detection=mp.solutions.face_detection\n",
    "with mp_face_detection.FaceDetection(model_selection=1,min_detection_confidence=0.5) as face_detection:\n",
    "    img_color=cv.cvtColor(vijay,cv.COLOR_BGR2RGB)\n",
    "    out=face_detection.process(img_color)\n",
    "    #print(out.detections)\n",
    "    if out.detections:\n",
    "        for d in out.detections:\n",
    "            location=d.location_data\n",
    "            bbox=location.relative_bounding_box\n",
    "            x1,y1,width,height=bbox.xmin,bbox.ymin,bbox.width,bbox.height\n",
    "            x1=int(x1*w)\n",
    "            y1=int(y1*h)\n",
    "            w=int(w*width)\n",
    "            h=int(h*height)\n",
    "            vijay=cv.rectangle(vijay,(x1,y1),(x1+w,y1+h),(0,255,0),10)\n",
    "            vijay[y1:y1+h,x1:x1+w,:]=cv.blur(vijay[y1:y1+h,x1:x1+w,:],(20,20))\n",
    "\n",
    "cv.imshow('image',vijay)\n",
    "cv.waitKey(0)\n",
    "cv.destroyAllWindows()"
   ]
  },
  {
   "cell_type": "code",
   "execution_count": null,
   "id": "9f89597f-ea74-455c-b4e9-968148f81d71",
   "metadata": {},
   "outputs": [],
   "source": []
  }
 ],
 "metadata": {
  "kernelspec": {
   "display_name": "Python 3 (ipykernel)",
   "language": "python",
   "name": "python3"
  },
  "language_info": {
   "codemirror_mode": {
    "name": "ipython",
    "version": 3
   },
   "file_extension": ".py",
   "mimetype": "text/x-python",
   "name": "python",
   "nbconvert_exporter": "python",
   "pygments_lexer": "ipython3",
   "version": "3.12.7"
  }
 },
 "nbformat": 4,
 "nbformat_minor": 5
}
